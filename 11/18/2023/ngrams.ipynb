{
 "cells": [
  {
   "cell_type": "code",
   "execution_count": 25,
   "metadata": {},
   "outputs": [],
   "source": [
    "import numpy as np\n",
    "import math"
   ]
  },
  {
   "cell_type": "code",
   "execution_count": 26,
   "metadata": {},
   "outputs": [],
   "source": [
    "with open('/Users/kellandharrison/Documents/GitHub/NLP/data/odyssey.txt', 'r') as file:\n",
    "    text = file.read()\n",
    "words = text.split()"
   ]
  },
  {
   "cell_type": "code",
   "execution_count": 27,
   "metadata": {},
   "outputs": [],
   "source": [
    "def build_ngram_invertedindex(data, n):\n",
    "    index  = {}\n",
    "    for k in range(len(data) - n):\n",
    "        ngram = tuple(data[k:k+n])\n",
    "        next_word = data[k+n]\n",
    "        if ngram not in index.keys():\n",
    "            index[ngram] = {}\n",
    "        if next_word not in index[ngram].keys():\n",
    "            index[ngram][next_word] = 0\n",
    "        index[ngram][next_word] += 1\n",
    "    return index"
   ]
  },
  {
   "cell_type": "code",
   "execution_count": 28,
   "metadata": {},
   "outputs": [],
   "source": [
    "index = build_ngram_invertedindex(words, 4)"
   ]
  },
  {
   "cell_type": "code",
   "execution_count": 29,
   "metadata": {},
   "outputs": [],
   "source": [
    "ngrams = index.keys()"
   ]
  },
  {
   "cell_type": "code",
   "execution_count": 30,
   "metadata": {},
   "outputs": [],
   "source": [
    "def get_next_word(index, ngram):\n",
    "    sum = 0\n",
    "    for value in index[ngram].values():\n",
    "        sum += value\n",
    "    x = np.random.uniform()\n",
    "    for word in index[ngram].keys():\n",
    "        if x <= index[ngram][word]/sum:\n",
    "            next_word = word\n",
    "            break\n",
    "        sum -= index[ngram][word]\n",
    "    return next_word"
   ]
  },
  {
   "cell_type": "code",
   "execution_count": 31,
   "metadata": {},
   "outputs": [],
   "source": [
    "def generate_text(index, initial_ngram, num_words):\n",
    "    text = ''\n",
    "    for word in initial_ngram:\n",
    "        text = text + ' ' + word\n",
    "    ngram = initial_ngram\n",
    "    for i in range(num_words):\n",
    "        next_word = get_next_word(index, ngram)\n",
    "        text = text + ' ' + next_word\n",
    "        if i%12 == 0 and i!= 0:\n",
    "            text = text + '\\n '\n",
    "        ngram = list(ngram)\n",
    "        ngram = ngram[1:]\n",
    "        ngram.append(next_word)\n",
    "        ngram = tuple(ngram)\n",
    "    return text\n",
    "\n"
   ]
  },
  {
   "cell_type": "code",
   "execution_count": 32,
   "metadata": {},
   "outputs": [],
   "source": [
    "text = generate_text(index, list(ngrams)[50], 200)\n"
   ]
  },
  {
   "cell_type": "code",
   "execution_count": 33,
   "metadata": {},
   "outputs": [
    {
     "name": "stdout",
     "output_type": "stream",
     "text": [
      " and customs he was acquainted; moreover he suffered much by sea while trying to save his own\n",
      "  life and bring his men safely home; but do what he might\n",
      "  he could not save his men, for they perished through their own\n",
      "  sheer folly in eating the cattle of the sun-god, and how Jove\n",
      "  therefore struck the ship with his thunderbolts, and the ship went round\n",
      "  and round and was filled with fire and brimstone as the lightning\n",
      "  struck it. The men all fell into the sea; they were carried\n",
      "  about in the water round the ship, looking like so many sea-gulls,\n",
      "  but the god presently deprived them of all chance of getting home\n",
      "  again. I was all dismayed. Jove, however, sent the ship’s mast within\n",
      "  my reach, which saved my life, for I clung to it, and\n",
      "  drifted before the fury of the gale abated; we therefore went on\n",
      "  board, raised our masts, spread sail, and put out to sea.’ “Thus\n",
      "  spoke Eurylochus, and the men approved his words. Now the cattle, so\n",
      "  fair and goodly, were feeding not far from the water. There he\n",
      "  crept beneath two shoots of olive that grew from a single stock—the\n",
      "  one an ungrafted sucker, while the other\n"
     ]
    }
   ],
   "source": [
    "print(text)"
   ]
  },
  {
   "attachments": {},
   "cell_type": "markdown",
   "metadata": {},
   "source": [
    "## Calculating Entropy"
   ]
  },
  {
   "cell_type": "code",
   "execution_count": 34,
   "metadata": {},
   "outputs": [],
   "source": [
    "def get_entropy(index):\n",
    "    entropy = 0\n",
    "    total = 0\n",
    "\n",
    "    for ngram in index.keys():\n",
    "        subentropy = 0\n",
    "        sum = 0\n",
    "\n",
    "        for value in index[ngram].values():\n",
    "            sum += value\n",
    "        total += sum\n",
    "\n",
    "        for word in index[ngram].keys():\n",
    "            prob = index[ngram][word]/sum\n",
    "            subentropy += prob * math.log(prob**(-1), 2)\n",
    "\n",
    "        entropy += sum * subentropy\n",
    "        \n",
    "    entropy = entropy/total\n",
    "    return entropy\n",
    "            "
   ]
  },
  {
   "cell_type": "code",
   "execution_count": 35,
   "metadata": {},
   "outputs": [],
   "source": [
    "H = get_entropy(index)"
   ]
  },
  {
   "cell_type": "code",
   "execution_count": 36,
   "metadata": {},
   "outputs": [
    {
     "data": {
      "text/plain": [
       "0.07462946123078784"
      ]
     },
     "execution_count": 36,
     "metadata": {},
     "output_type": "execute_result"
    }
   ],
   "source": [
    "H"
   ]
  },
  {
   "cell_type": "code",
   "execution_count": null,
   "metadata": {},
   "outputs": [],
   "source": []
  }
 ],
 "metadata": {
  "kernelspec": {
   "display_name": "sci",
   "language": "python",
   "name": "python3"
  },
  "language_info": {
   "codemirror_mode": {
    "name": "ipython",
    "version": 3
   },
   "file_extension": ".py",
   "mimetype": "text/x-python",
   "name": "python",
   "nbconvert_exporter": "python",
   "pygments_lexer": "ipython3",
   "version": "3.11.4"
  },
  "orig_nbformat": 4
 },
 "nbformat": 4,
 "nbformat_minor": 2
}
